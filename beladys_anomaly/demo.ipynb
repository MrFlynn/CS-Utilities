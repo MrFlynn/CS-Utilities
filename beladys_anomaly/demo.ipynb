{
 "cells": [
  {
   "cell_type": "markdown",
   "metadata": {},
   "source": [
    "## Bélády's Anomaly Demonstration\n",
    "\n",
    "The intention of this notebook is to demonstrate [Bélády's Anomaly](https://en.wikipedia.org/wiki/B%C3%A9l%C3%A1dy%27s_anomaly) on a cache that uses a FIFO replacement policy. This notebook will mock several fully-associated caches of size $C \\in \\{4 ... 100\\}$. Each entry in the cache is just a reference to the frame and does not contain any other information. This is just to demonstrate this type of anomaly that can occur with these types of caches.\n",
    "\n",
    "Each test will have a progressively larger number of possible accesible frames--matching the number of available cache entries plus one. This ensures that there will be at least some page faults for each test. Each test randomly generates 100 mock page frame accesses and then counts the number of page faults that occur."
   ]
  },
  {
   "cell_type": "code",
   "execution_count": 37,
   "metadata": {},
   "outputs": [],
   "source": [
    "import random\n",
    "import queue\n",
    "\n",
    "\n",
    "class IterableQueue(queue.Queue):\n",
    "    \"\"\"Queue class that allows inspection of the contents of the queue. This is accomplished\n",
    "    by storing all inserted objects into a dictionary. This allows the user to check whether\n",
    "    or not some item exists somewhere in the queue. It also allows for an interator to list\n",
    "    off all items in the queue (though their ordering is not guaranteed to be exact).\n",
    "    \"\"\"\n",
    "    def __init__(self, maxsize=0):\n",
    "        super(IterableQueue, self).__init__()\n",
    "        self._contents = {}\n",
    "    \n",
    "    def put(self, item, block=True, timeout=None):\n",
    "        super(IterableQueue, self).put(item, block=block, timeout=timeout)\n",
    "        \n",
    "        if item in self._contents:\n",
    "            self._contents[item] += 1\n",
    "        else:\n",
    "            self._contents[item] = 1\n",
    "\n",
    "    def get(self, block=True, timeout=None):\n",
    "        item = super(IterableQueue, self).get(block=block, timeout=timeout)\n",
    "        \n",
    "        if not self._contents[item] - 1:\n",
    "            del self._contents[item]\n",
    "        else:\n",
    "            self._contents[item] -= 1\n",
    "    \n",
    "    def __contains__(self, item):\n",
    "        return item in self._contents\n",
    "    \n",
    "    def __iter__(self):\n",
    "        return self\n",
    "    \n",
    "    def __next__(self):\n",
    "        for k, v in self._contents.items():\n",
    "            for _ in range(v):\n",
    "                yield k\n",
    "\n",
    "\n",
    "def simulate_fifo_cache(total_frame_count_func):\n",
    "    \"\"\"Generates a list of integers representing the number of page faults that occured during\n",
    "    the cache simulation. Takes a function that determines how many possible frames there will\n",
    "    be based on the size of the cache.\n",
    "    \"\"\"\n",
    "    num_faults = [0] * 97\n",
    "    for idx, cache_size in enumerate(range(4, 101)):\n",
    "        cache = IterableQueue(maxsize=cache_size)\n",
    "    \n",
    "        # List of frames to access.\n",
    "        frame_accesses = [\n",
    "            random.randrange(0, total_frame_count_func(cache_size)) for _ in range(100)\n",
    "        ]\n",
    "    \n",
    "        for frame in frame_accesses:\n",
    "            if cache.full():\n",
    "                cache.get_nowait()\n",
    "        \n",
    "            if not frame in cache:\n",
    "                num_faults[idx] += 1\n",
    "        \n",
    "            cache.put(frame)\n",
    "            \n",
    "    return num_faults"
   ]
  },
  {
   "cell_type": "code",
   "execution_count": 45,
   "metadata": {
    "scrolled": false
   },
   "outputs": [
    {
     "data": {
      "image/png": "[encoded data removed]",
      "text/plain": [
       "<Figure size 432x432 with 1 Axes>"
      ]
     },
     "metadata": {
      "needs_background": "light"
     },
     "output_type": "display_data"
    }
   ],
   "source": [
    "import matplotlib.pyplot as plt\n",
    "\n",
    "plt.figure(figsize=(6, 6))\n",
    "\n",
    "plt.plot(simulate_fifo_cache(lambda x: x + 1))\n",
    "\n",
    "plt.xlabel('Cache Size (# of Entries)')\n",
    "plt.ylabel('Number of Page Faults')\n",
    "plt.show()"
   ]
  },
  {
   "cell_type": "markdown",
   "metadata": {},
   "source": [
    "In this case you can see that even with a larger cache size, the number of page faults still increases."
   ]
  }
 ],
 "metadata": {
  "kernelspec": {
   "display_name": "Python 3",
   "language": "python",
   "name": "python3"
  },
  "language_info": {
   "codemirror_mode": {
    "name": "ipython",
    "version": 3
   },
   "file_extension": ".py",
   "mimetype": "text/x-python",
   "name": "python",
   "nbconvert_exporter": "python",
   "pygments_lexer": "ipython3",
   "version": "3.7.3"
  }
 },
 "nbformat": 4,
 "nbformat_minor": 2
}
